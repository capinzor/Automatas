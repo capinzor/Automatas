{
 "cells": [
  {
   "cell_type": "markdown",
   "metadata": {
    "nbpresent": {
     "id": "475a0f90-5aa3-4d94-8fb7-64f7aa4cb037"
    }
   },
   "source": [
    "# Automatas Finitos\n",
    "\n",
    "\n",
    "\n",
    "\n",
    "\n",
    "\n",
    "\n",
    "\n",
    "- Considere el problema de determinar si un código corresponde a un ISBN de 13 dígitos.Construya un autómata finito determinístico para identificar si un código es válido o no. Especifique formalmente el autómata, dibuje el diagrama y la tabla de transiciones.Implemente el autómata correspondiente utilizado una clase autómata.\n",
    "\n",
    "  **Paso 1:**\n",
    "  Creamos el DFA de nuestro caso:\n"
   ]
  },
  {
   "cell_type": "markdown",
   "metadata": {
    "collapsed": false,
    "slideshow": {
     "slide_type": "-"
    }
   },
   "source": [
    "<img src=\"automata1.png\">"
   ]
  },
  {
   "cell_type": "markdown",
   "metadata": {
    "nbpresent": {
     "id": "c6767089-8945-411e-af5c-aef93f081e3f"
    }
   },
   "source": [
    "**Paso 2:**\n",
    "Construimos la tabla de transiciones:\n",
    "\n",
    "|Estado     |  9       |  7       |  8       |  0-6     |  FDC   |\n",
    "| :------: | :------: | :------: | :------: | :------: | -----: |\n",
    "| 0        | 1        | E        | E        | E        | E      | \n",
    "| 1        | E        | 2        | E        | E        | E      | \n",
    "| 2        | 3        | E        | 3        | E        | E      | \n",
    "| 3        | 4        | 4        | 4        | 4        | E      | \n",
    "| 4        | 5        | 5        | 5        | 5        | E      | \n",
    "| 5        | 6        | 6        | 6        | 6        | E      | \n",
    "| 6        | 7        | 7        | 7        | 7        | E      | \n",
    "| 7        | 8        | 8        | 8        | 8        | E      | \n",
    "| 8        | 9        | 9        | 9        | 9        | E      | \n",
    "| 9        | 10       | 10       | 10       | 10       | E      | \n",
    "| 10       | 11       | 11       | 11       | 11       | E      | \n",
    "| 11       | 12       | 12       | 12       | 12       | E      | \n",
    "| 12       | 12       | 13       | 13       | 13       | E      | \n",
    "| 13       | E        | E        | E        | E        | A      | \n",
    "\n",
    "El automata leerá la cadena y determinará si es valida o no.\n",
    "\n",
    "A continuacion el código en Python\n",
   "Adaotado de http://www.pythondiario.com/2015/06/afd-en-python-automata-finito.html\"
    "\n",
    "\n"
   ]
  },
  {
   "cell_type": "code",
   "execution_count": null,
   "metadata": {
    "collapsed": false,
    "nbpresent": {
     "id": "93049571-80f0-4d90-b487-8492b6dd234d"
    }
   },
   "outputs": [
    {
     "name": "stdout",
     "output_type": "stream",
     "text": [
      "+-------------------------------------+\n",
      "|    Ingrese una cadena a evaluar:    |\n",
      "+-------------------------------------+\n"
     ]
    }
   ],
   "source": [
    "import re #para expresiones regulares\n",
    " \n",
    "#Definimos la funcion caracter \n",
    "def caracter(character):\n",
    "    global simbolo\n",
    "    simbolo=\"\"\n",
    "    global Fin\n",
    "    Fin=\"\"\n",
    "    primero=\"9\"\n",
    "    segundo=\"7\"\n",
    "    tercero=\"8\"\n",
    "    digito=\"[0-6]\"\n",
    "    operador=\"(\\+|\\-|\\*|\\/)\"\n",
    "         \n",
    "    #comparamos si es digito \n",
    "    if(re.match(primero,character)):\n",
    "        simbolo=\"Digito\"\n",
    "        return 0\n",
    "    elif(re.match(segundo,character)):\n",
    "        simbolo=\"Digito\"\n",
    "        return 1\n",
    "    elif(re.match(tercero,character)):\n",
    "        simbolo=\"Digito\"  \n",
    "        return 2 \n",
    "    elif(re.match(digito,character)):\n",
    "        simbolo=\"Digito\"  \n",
    "        return 3     \n",
    "    else:     \n",
    "        if(character==Fin):\n",
    "            return 4\n",
    "         \n",
    "        #si no es un digito entonces es un caracter no valido\n",
    "        print(\"Error el \",character,\"no es valido\")\n",
    "        exit()\n",
    " \n",
    "\n",
    "def ultimo(cadena):\n",
    "    validacion=0\n",
    "    for i in range (12):\n",
    "        numero=int(cadena[i])\n",
    "        if i%2==0:\n",
    "            validacion+=numero\n",
    "        else:\n",
    "            validacion+=numero*3\n",
    "        #print (validacion)   \n",
    "    #print(\"validacion\",validacion)\n",
    "    return 10-(validacion%10)\n",
    "\n",
    "\n",
    "#definimos a la funcion  encabezado\n",
    "def encabezado():\n",
    "    print(\"\"\"|  Edo. Actual |Caracter |Edo. Siguiente |\"\"\")\n",
    "    body()\n",
    " \n",
    "#definimos la funcion contenido donde guarda cada valor despues de encontrarlo en un ciclo\n",
    "def contenido(estadosig,character,simbolo,estado):\n",
    "    if (estadosig<10):\n",
    "        print(\"|      \",estadosig,\"      |  \",character,\"    |\",simbolo,\" |     \",estado,\"       |\")\n",
    "        body()\n",
    "    else:\n",
    "        print(\"|     \",estadosig,\"      |  \",character,\"    |\",simbolo,\" |     \",estado,\"       |\")\n",
    "        body()\n",
    "\n",
    " \n",
    "#solo muestra la linea que se repetira cada vez que la mandemos a llamar\n",
    "def body():\n",
    "    print(\"+--------------+---------+-----------+---------------+\")\n",
    " \n",
    "#MAIN\n",
    "#Este es la tabla de transiciones del automata AFD creado\n",
    "tabla=[[1,\"E\",\"E\",\"E\",\"E\"],[\"E\",2,\"E\",\"E\",\"E\"],[3,\"E\",3,\"E\",\"E\"]\n",
    "        ,[4,4,4,4,\"E\"],[5,5,5,5,\"E\"],[6,6,6,6,\"E\"]\n",
    "        ,[7,7,7,7,\"E\"],[8,8,8,8,\"E\"],[9,9,9,9,\"E\"]\n",
    "        ,[10,10,10,10,\"E\"],[11,11,11,11,\"E\"],[12,12,12,12,\"E\"]\n",
    "        ,[13,13,13,13,\"E\"],[\"E\",\"E\",\"E\",\"E\",\"A\"]]\n",
    "estado = 0\n",
    " \n",
    "print (\"\"\"+-------------------------------------+\n",
    "|    Ingrese una cadena a evaluar:    |\n",
    "+-------------------------------------+\"\"\")\n",
    "cadena = input()\n",
    "body()\n",
    "encabezado()\n",
    "\n",
    "\n",
    "#ciclo para recorrer la cadena\n",
    "for  character in cadena:\n",
    "    estadosig=estado\n",
    "     \n",
    "    #llamamos al metodo para saber si es un caracter valido y el valor retornado se guarda en charcaracter\n",
    "    charcaracter= caracter(character)\n",
    "     \n",
    "    #guardamos en estado el valor obtenido en la tabla segun las cordenadas que recibio anteriormente\n",
    "    estado=tabla[estado][charcaracter]\n",
    "     \n",
    "    #Si el valor obtenido es una E imprimimos cadena no valida\n",
    "    if (estado==\"E\"):\n",
    "        print(\"|     \",estadosig,\"      |  \",character,\"    |\",simbolo,\" |     \",estado,\"       |\")\n",
    "        body()\n",
    "        print(\"\"\"|              Cadena No Valida :(                   |\n",
    "+----------------------------------------------------+\"\"\")\n",
    "        exit()\n",
    "    contenido(estadosig,character,simbolo,estado)\n",
    " \n",
    "#al concluir si el estado no es 3 que es el de aceptacion imprimimos cadena no valida    \n",
    "if(estado!=13):\n",
    "        print(\"\"\"|              Cadena No Valida :(                   |\n",
    "+----------------------------------------------------+\"\"\")\n",
    " \n",
    "#si el estado es 3 es una cadena de aceptacion\n",
    "if(estado==13):\n",
    "    if (int(cadena[12])==ultimo(cadena)):\n",
    "        print(\"|     \",estado,\"      |         |    FND    |  ACEPTACION  |\")\n",
    "        body()\n",
    "        print(\"\"\"|                Cadena Valida :)                    |\n",
    "    +----------------------------------------------------+\"\"\")\n",
    "    else:\n",
    "        print(\"\"\"|Numero de validacion incorrecto, Cadena No Valida :( |\n",
    "+----------------------------------------------------+\"\"\")\n",
    "        \n",
    "        \n",
    "        \n",
    "        \n"
   ]
  },
  {
   "cell_type": "markdown",
   "metadata": {
    "collapsed": true
   },
   "source": [
    "- Construya un autómata finito determinístico sobre el alfabeto *{a,b}* el cual acepte todas las cadenas que contengan NO más de dos ocurrencias consecutivas de la misma entrada (Por ejemplo, abba es aceptada y abbba no es aceptada). Especifique\n",
    "formalmente el autómata, dibuje el diagrama y la tabla de transiciones.\n",
    "\n",
    " $ A = ( \\lbrace q_{0},q_{1},q_{2},q_{3},q_{4},q_{5},q_{6},q_{7}q_{8}\\rbrace ,\\lbrace a,b \\rbrace,\\delta , q_{0},\\lbrace q_{0},q_{1},q_{2},q_{3},q_{4},q_{5},q_{6},q_{7}q_{8}\\rbrace)$\n",
    " \n"
   ]
  },
  {
   "cell_type": "markdown",
   "metadata": {},
   "source": [
    " <img src=\"imagen2.png\">"
   ]
  },
  {
   "cell_type": "markdown",
   "metadata": {},
   "source": [
    "- Dado un autómata finito determinístico *M*, construya un nuevo autómata finito determinístico *M'* con el mismo alfabeto de entrada y con la propiedad de que para todos los  *u* $\\in \\Sigma^{*}$, *u* es aceptado por *M'* si y solo si *u* NO es aceptado por *M*\n",
    "\n",
    "  sea:    \n",
    "   $M=(Q,\\Sigma,\\delta,q_{0},F)$   \n",
    "   $M'=(Q,\\Sigma,\\delta,q_{0},G)$    \n",
    "\n",
    "   Donde G es el conjunto de todos los estados que no pertecen a F"
   ]
  },
  {
   "cell_type": "markdown",
   "metadata": {},
   "source": [
    "- Dados dos autómatas finitos determinísticos $M_{1}$ y $M_{2}$ con el mismo alfabeto de entrada, construya un tercer autómata finito determinístico *(M)* con la propiedad que *u* $\\in \\Sigma^{*}$ es aceptado por *M* si y solo si es aceptado por ambos $M_{1}$ y $M_{21}$.\n",
    "\n",
    "   $M=M_{1}\\bigcap M_{2}$"
   ]
  },
  {
   "cell_type": "markdown",
   "metadata": {},
   "source": [
    "- Construya un autómata finito no determinístico que permita aceptar palabras sobre el alfabeto $\\lbrace 1,2,3 \\rbrace$ tal que el último símbolo aparezca al menos dos veces, pero sin la intervención de un símbolo superior en la mitad. Por ejemplo, 11, 2112, 123113, 3212113, etc.\n",
    "\n",
    "<img src=\"imagen5.png\">"
   ]
  },
  {
   "cell_type": "markdown",
   "metadata": {},
   "source": [
    "- Escriba un autómata que reconozca todos las cadenas sobre $\\lbrace 0,1 \\rbrace$ que representan números binarios que son divisibles por *5*. Por ejemplo, 0, 101, 1010, 1111, 11001.\n",
    "\n",
    "<img src=\"imagen6.png\">"
   ]
  },
  {
   "cell_type": "markdown",
   "metadata": {},
   "source": [
    "- Un sistema de transiciones es una generalización de los autómata finitos no determinísticos con $\\varepsilon$-­transiciones, en la cual se admiten transiciones adicionales con palabras de longitud mayor o igual a 1. De una definición formal de los sistemas de transiciones, y pruebe que los lenguajes aceptados por un sistema de transiciones son aceptados por un DFA.\n",
    "\n",
    "  Un lenguaje *L* es aceptado por algún AFN-$\\varepsilon$ si y sólo si *L* es aceptado por algún AFD.\n",
    "\n",
    "  **DEMOSTRACION}**\n",
    "  *Parte Si*. Suponga que L = L(D) para algún AFD. Transformamos D en un AFD-$\\varepsilon$ E añadiendo transiciones           $\\delta(q,\\varepsilon) = 0 $ para todos los estados q de D. También tenemos que convertir las transiciones de D para los símbolos de entrada, como por ejemplo $\\delta_{D}(q,a)=p$ en una transición del AFN al conjunto que sólo contiene p, es decir, $\\delta_{E}(q,a)=\\lbrace p\\rbrace$. Por tanto, las transiciones de E y D son las mismas, pero E establece explícitamente que no existe ninguna transición saliente de cualquier estado para $\\varepsilon$\n",
    "\n",
    "  *Parte Sólo-si*. Sea $E = (Q_{E},\\Sigma,\\delta_{E},q_{0},F_{E})$ un AFN-$\\varepsilon$. Aplicamos la construcción de subconjuntos modificada descrita anteriormente para generar el AFD,\n",
    "$D = (Q_{D},\\Sigma,\\delta_{D},q_{D},F_{D})$\n",
    "\n",
    "  Tenemos que demostrar que L(D) = L(E), y lo hacemos demostrando que las funciones de transición extendidas de E y D son iguales. Formalmente, demostramos por inducción que $\\delta_{E}(q_{0},w)=\\delta_{D}(q_{D},w)$ sobre la longitud de w.\n",
    "\n",
    "  BASE. Si $\\vert w \\vert ==$, entonces $w=\\varepsilon$. Sabemos que $\\delta_{E}(q_{0},\\varepsilon) = CLAUSURA_{\\varepsilon} (q_{0})$. También sabemos que $\\delta_{D} = CLAUSURA_{\\varepsilon} (q_{0})$, porque es como se ha definido el estado inicial de D. Por último, para un AFD, sabemos que $\\delta(p,\\varepsilon) = p)$ para cualquier estado p, por lo que, en particular,$\\delta_{D}(q_{D},\\varepsilon) = CLAUSURA_{\\varepsilon} (q_{0})$. Luego hemos demostrado que $\\delta_{E}(q_{0},\\varepsilon) = \\delta_{D}(q_{D},\\varepsilon)$.\n",
    "\n",
    "  PASO INDUCTIVO. Suponga que w = xa, donde a es el último símbolo de w, y suponga que la proposición se cumple para x. Es decir, $\\delta_{E}(q_{0},x)$. Sean estos dos conjuntos de estados \\{p1, p2,..., pk\\}. Aplicando la definición de $\\delta$ para los AFN-$\\varepsilon$, calculamos $\\delta_{E}(q_{0},w)$ como sigue:\n",
    "\n",
    "1. Sea \\{r1,r2,...,rm\\} igual a $ \\cup^{k}_{j=1}\\delta_{E}(p_{i},a)$.\n",
    "\n",
    "2. Luego $\\delta_{E}(q_{0},w)= \\cup^{m}_{j=1}CLAUSURA_{\\varepsilon}(r_{j})$.\n",
    "\n",
    "   Si examinamos la construcción del AFD D en la construcción de subconjuntos anterior, vemos que$\\delta_{D}$(\\{ p1, p2,..., pk \\} ,a) se construye aplicando los dos mismos pasos (1) y (2) anteriores. Por tanto, $\\delta_{D}(q_{D},w)$, que es $\\delta_{D}$(\\{p1, p2,..., pk \\},a), es el mismo conjunto que $\\delta_{E}(q_{0},w)$. Luego hemos demostrado que $\\delta_{E}(q_{0},w)= \\delta_{D}(q_{D},w)$ y el paso de inducción queda completado. $\\diamondsuit$\n"
   ]
  },
  {
   "cell_type": "markdown",
   "metadata": {},
   "source": [
    "- Pruebe o desapruebe la siguiente afirmación: El siguiente autómata acepta el lenguaje\n",
    "\n",
    " $L = \\lbrace w \\vert w = a^{i}b^{i}$ o $w = a^{i}c^{i}, i\\geq1, j\\geq1 \\rbrace$\n",
    " \n",
    " <img src=\"imagen8.png\">\n",
    " \n",
    " En vista que el automata acepta $w=a^{i}b^{j}$ y L tiene el condicional \"o\" el automata acepta el lenguaje."
   ]
  },
  {
   "cell_type": "markdown",
   "metadata": {},
   "source": [
    "- Respecto al uso de autómatas (máquinas de estado finito) para el diseño de personajesd e video juegos :\n",
    "    - ¿Cúales con las ventajas del uso de la abstracción de maquinas de estado frente a una implementación utlizando condicionales?\n",
    "    \n",
    "      - Hace simple el llamado de tareas repetitivas.         \n",
    "      - La variable de estado puede modificarse en los módulos (o estados) de software por si misma o por una función externa\n",
    "    \n",
    "    - ¿Cómo se utilizan los autómatas en el diseño de personajes para video juegos?\n",
    "      - Cuando comienza el juego estamos en un estado(parado), si se pulsa una tecla se produce un evento que nos llevara a un nuevo estado como saltar, agacharse, puño, patada, etc.\n",
    "      \n",
    "    - Seleccione su personaje de video juegos preferido, especifique formalmente su autómata, encuentre el lenguaje aceptado por el automata, pruebe que el lenguaje propuesto efectivamente es aceptado por el autómata. Seleccione un personaje con al menos cuatro estados y 4 acciones. \n",
    "\n",
    "      - En Street Fighter un peleador se encuentra en el estado inicial parado, dependiendo de la tecla que se oprima puede saltar, agacharse, avanzar, retroceder, patear, dar puño.\n",
    "\n",
    "        El automata se muestra en segida:\n",
    "        \n",
    "        <img src=\"imagen9.png\">"
   ]
  }
 ],
 "metadata": {
  "anaconda-cloud": {},
  "kernelspec": {
   "display_name": "Python [Root]",
   "language": "python",
   "name": "Python [Root]"
  },
  "language_info": {
   "codemirror_mode": {
    "name": "ipython",
    "version": 3
   },
   "file_extension": ".py",
   "mimetype": "text/x-python",
   "name": "python",
   "nbconvert_exporter": "python",
   "pygments_lexer": "ipython3",
   "version": "3.5.2"
  }
 },
 "nbformat": 4,
 "nbformat_minor": 0
}
